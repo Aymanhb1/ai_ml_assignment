{
  "nbformat": 4,
  "nbformat_minor": 0,
  "metadata": {
    "colab": {
      "provenance": [],
      "gpuType": "T4"
    },
    "kernelspec": {
      "name": "python3",
      "display_name": "Python 3"
    },
    "language_info": {
      "name": "python"
    },
    "accelerator": "GPU"
  },
  "cells": [
    {
      "cell_type": "markdown",
      "metadata": {
        "id": "873efa00"
      },
      "source": [
        "# Task\n",
        "Build a machine learning pipeline for image classification using the MNIST dataset. The pipeline should include data loading and preprocessing, training and evaluation of a traditional ML model (Logistic Regression or SVM) as a baseline, building and evaluating a simple CNN model, comparing the performance of both models, and a reflection on the ethics of using such models."
      ]
    },
    {
      "cell_type": "markdown",
      "metadata": {
        "id": "9ff06fcb"
      },
      "source": [
        "## Load and preprocess data\n",
        "\n",
        "### Subtask:\n",
        "Load the MNIST dataset, normalize pixel values, and split the data into training and test sets.\n"
      ]
    },
    {
      "cell_type": "code",
      "metadata": {
        "colab": {
          "base_uri": "https://localhost:8080/"
        },
        "id": "d527b4d1",
        "outputId": "d020cf61-9c0b-4a6d-a3d8-f45507212bb8"
      },
      "source": [
        "import tensorflow as tf\n",
        "\n",
        "# Load the MNIST dataset\n",
        "(x_train, y_train), (x_test, y_test) = tf.keras.datasets.mnist.load_data()\n",
        "\n",
        "# Normalize pixel values\n",
        "x_train = x_train / 255.0\n",
        "x_test = x_test / 255.0\n",
        "\n",
        "# Reshape the data to include the channel dimension\n",
        "x_train = x_train.reshape(-1, 28, 28, 1)\n",
        "x_test = x_test.reshape(-1, 28, 28, 1)\n",
        "\n",
        "print(\"Training data shape:\", x_train.shape)\n",
        "print(\"Training labels shape:\", y_train.shape)\n",
        "print(\"Test data shape:\", x_test.shape)\n",
        "print(\"Test labels shape:\", y_test.shape)"
      ],
      "execution_count": 9,
      "outputs": [
        {
          "output_type": "stream",
          "name": "stdout",
          "text": [
            "Training data shape: (60000, 28, 28, 1)\n",
            "Training labels shape: (60000,)\n",
            "Test data shape: (10000, 28, 28, 1)\n",
            "Test labels shape: (10000,)\n"
          ]
        }
      ]
    },
    {
      "cell_type": "markdown",
      "metadata": {
        "id": "fa1d8e15"
      },
      "source": [
        "## Train and evaluate baseline model\n",
        "\n",
        "### Subtask:\n",
        "Flatten the images, train a Logistic Regression model, and evaluate its performance using accuracy and a confusion matrix.\n"
      ]
    },
    {
      "cell_type": "code",
      "metadata": {
        "colab": {
          "base_uri": "https://localhost:8080/"
        },
        "id": "3aa39b11",
        "outputId": "d608eac9-b6af-40d7-c23b-080cb202b086"
      },
      "source": [
        "import numpy as np\n",
        "from sklearn.linear_model import LogisticRegression\n",
        "from sklearn.metrics import accuracy_score, confusion_matrix\n",
        "\n",
        "# Flatten the training and test image data\n",
        "x_train_flat = x_train.reshape(x_train.shape[0], -1)\n",
        "x_test_flat = x_test.reshape(x_test.shape[0], -1)\n",
        "\n",
        "print(\"Flattened training data shape:\", x_train_flat.shape)\n",
        "print(\"Flattened test data shape:\", x_test_flat.shape)\n",
        "\n",
        "# Instantiate a LogisticRegression object\n",
        "logistic_regression_model = LogisticRegression(max_iter=1000)\n",
        "\n",
        "# Train the LogisticRegression model\n",
        "logistic_regression_model.fit(x_train_flat, y_train)\n",
        "\n",
        "# Predict the labels for the flattened test image data\n",
        "y_pred = logistic_regression_model.predict(x_test_flat)\n",
        "\n",
        "# Calculate the accuracy\n",
        "accuracy = accuracy_score(y_test, y_pred)\n",
        "\n",
        "# Generate a confusion matrix\n",
        "conf_matrix = confusion_matrix(y_test, y_pred)\n",
        "\n",
        "# Print the accuracy and the confusion matrix\n",
        "print(\"\\nLogistic Regression Model Performance:\")\n",
        "print(\"Accuracy:\", accuracy)\n"
      ],
      "execution_count": 10,
      "outputs": [
        {
          "output_type": "stream",
          "name": "stdout",
          "text": [
            "Flattened training data shape: (60000, 784)\n",
            "Flattened test data shape: (10000, 784)\n",
            "\n",
            "Logistic Regression Model Performance:\n",
            "Accuracy: 0.9259\n"
          ]
        }
      ]
    },
    {
      "cell_type": "markdown",
      "metadata": {
        "id": "eb21eb77"
      },
      "source": [
        "## Build, train, and evaluate deep learning model\n",
        "\n",
        "### Subtask:\n",
        "Build a simple CNN model, train it on the MNIST dataset, and evaluate its performance.\n"
      ]
    },
    {
      "cell_type": "code",
      "metadata": {
        "colab": {
          "base_uri": "https://localhost:8080/"
        },
        "id": "86df0db6",
        "outputId": "550ea3a7-c632-4d81-a6a8-85b98c60f935"
      },
      "source": [
        "from tensorflow.keras.models import Sequential\n",
        "from tensorflow.keras.layers import Conv2D, MaxPooling2D, Flatten, Dense\n",
        "\n",
        "# Define the CNN model\n",
        "cnn_model = Sequential([\n",
        "    Conv2D(32, (3, 3), activation='relu', input_shape=(28, 28, 1)),\n",
        "    MaxPooling2D((2, 2)),\n",
        "    Conv2D(64, (3, 3), activation='relu'),\n",
        "    MaxPooling2D((2, 2)),\n",
        "    Flatten(),\n",
        "    Dense(10, activation='softmax')\n",
        "])\n",
        "\n",
        "# Compile the CNN model\n",
        "cnn_model.compile(optimizer='adam',\n",
        "                  loss='sparse_categorical_crossentropy',\n",
        "                  metrics=['accuracy'])\n",
        "\n",
        "# Train the CNN model\n",
        "history = cnn_model.fit(x_train, y_train, epochs=5, batch_size=32, validation_split=0.1)\n",
        "\n",
        "# Evaluate the CNN model\n",
        "loss, accuracy = cnn_model.evaluate(x_test, y_test, verbose=0)\n",
        "\n",
        "# Print the evaluation results\n",
        "print(\"\\nCNN Model Performance:\")\n",
        "print(f\"Test loss: {loss:.4f}\")\n",
        "print(f\"Test accuracy: {accuracy:.4f}\")"
      ],
      "execution_count": 11,
      "outputs": [
        {
          "output_type": "stream",
          "name": "stderr",
          "text": [
            "/usr/local/lib/python3.12/dist-packages/keras/src/layers/convolutional/base_conv.py:113: UserWarning: Do not pass an `input_shape`/`input_dim` argument to a layer. When using Sequential models, prefer using an `Input(shape)` object as the first layer in the model instead.\n",
            "  super().__init__(activity_regularizer=activity_regularizer, **kwargs)\n"
          ]
        },
        {
          "output_type": "stream",
          "name": "stdout",
          "text": [
            "Epoch 1/5\n",
            "\u001b[1m1688/1688\u001b[0m \u001b[32m━━━━━━━━━━━━━━━━━━━━\u001b[0m\u001b[37m\u001b[0m \u001b[1m14s\u001b[0m 6ms/step - accuracy: 0.8848 - loss: 0.3760 - val_accuracy: 0.9842 - val_loss: 0.0544\n",
            "Epoch 2/5\n",
            "\u001b[1m1688/1688\u001b[0m \u001b[32m━━━━━━━━━━━━━━━━━━━━\u001b[0m\u001b[37m\u001b[0m \u001b[1m7s\u001b[0m 4ms/step - accuracy: 0.9832 - loss: 0.0553 - val_accuracy: 0.9875 - val_loss: 0.0414\n",
            "Epoch 3/5\n",
            "\u001b[1m1688/1688\u001b[0m \u001b[32m━━━━━━━━━━━━━━━━━━━━\u001b[0m\u001b[37m\u001b[0m \u001b[1m11s\u001b[0m 4ms/step - accuracy: 0.9888 - loss: 0.0379 - val_accuracy: 0.9867 - val_loss: 0.0455\n",
            "Epoch 4/5\n",
            "\u001b[1m1688/1688\u001b[0m \u001b[32m━━━━━━━━━━━━━━━━━━━━\u001b[0m\u001b[37m\u001b[0m \u001b[1m10s\u001b[0m 4ms/step - accuracy: 0.9913 - loss: 0.0287 - val_accuracy: 0.9898 - val_loss: 0.0356\n",
            "Epoch 5/5\n",
            "\u001b[1m1688/1688\u001b[0m \u001b[32m━━━━━━━━━━━━━━━━━━━━\u001b[0m\u001b[37m\u001b[0m \u001b[1m6s\u001b[0m 4ms/step - accuracy: 0.9932 - loss: 0.0208 - val_accuracy: 0.9893 - val_loss: 0.0399\n",
            "\n",
            "CNN Model Performance:\n",
            "Test loss: 0.0339\n",
            "Test accuracy: 0.9898\n"
          ]
        }
      ]
    },
    {
      "cell_type": "markdown",
      "metadata": {
        "id": "3bb92566"
      },
      "source": [
        "## Compare models\n",
        "\n",
        "### Subtask:\n",
        "Compare the performance of the Logistic Regression and CNN models.\n"
      ]
    },
    {
      "cell_type": "code",
      "metadata": {
        "colab": {
          "base_uri": "https://localhost:8080/"
        },
        "id": "e5958969",
        "outputId": "54999f28-0c9f-4e6c-beae-c6e665af68b7"
      },
      "source": [
        "# Accuracy of Logistic Regression (from previous output)\n",
        "lr_accuracy = 0.9259\n",
        "\n",
        "# Accuracy of CNN (from current environment)\n",
        "cnn_accuracy = accuracy\n",
        "\n",
        "print(f\"Logistic Regression Accuracy: {lr_accuracy:.4f}\")\n",
        "print(f\"CNN Accuracy: {cnn_accuracy:.4f}\")\n",
        "\n",
        "print(\"\\nPerformance Comparison:\")\n",
        "print(f\"The CNN model performed better than the Logistic Regression model.\")\n",
        "print(f\"The CNN model achieved an accuracy of {cnn_accuracy:.4f}, while the Logistic Regression model achieved an accuracy of {lr_accuracy:.4f}.\")\n",
        "print(f\"The difference in accuracy is approximately {cnn_accuracy - lr_accuracy:.4f}.\")\n",
        "\n",
        "print(\"\\nPotential Reasons for Performance Difference:\")\n",
        "print(\"1. Nature of the models: CNNs are specifically designed to handle image data by extracting hierarchical features through convolutional and pooling layers. Logistic Regression is a linear model that treats each pixel as an independent feature, losing spatial relationships.\")\n",
        "print(\"2. Feature extraction: CNNs automatically learn relevant features from the images, whereas Logistic Regression relies on the raw pixel values (or simple handcrafted features if any preprocessing is done).\")\n",
        "print(\"3. Model complexity: CNNs are generally more complex models with more parameters, allowing them to capture intricate patterns in the image data that a simpler linear model like Logistic Regression cannot.\")"
      ],
      "execution_count": 12,
      "outputs": [
        {
          "output_type": "stream",
          "name": "stdout",
          "text": [
            "Logistic Regression Accuracy: 0.9259\n",
            "CNN Accuracy: 0.9898\n",
            "\n",
            "Performance Comparison:\n",
            "The CNN model performed better than the Logistic Regression model.\n",
            "The CNN model achieved an accuracy of 0.9898, while the Logistic Regression model achieved an accuracy of 0.9259.\n",
            "The difference in accuracy is approximately 0.0639.\n",
            "\n",
            "Potential Reasons for Performance Difference:\n",
            "1. Nature of the models: CNNs are specifically designed to handle image data by extracting hierarchical features through convolutional and pooling layers. Logistic Regression is a linear model that treats each pixel as an independent feature, losing spatial relationships.\n",
            "2. Feature extraction: CNNs automatically learn relevant features from the images, whereas Logistic Regression relies on the raw pixel values (or simple handcrafted features if any preprocessing is done).\n",
            "3. Model complexity: CNNs are generally more complex models with more parameters, allowing them to capture intricate patterns in the image data that a simpler linear model like Logistic Regression cannot.\n"
          ]
        }
      ]
    },
    {
      "cell_type": "markdown",
      "metadata": {
        "id": "02c0bbaf"
      },
      "source": [
        "## Address ethics and reflection\n",
        "\n",
        "### Subtask:\n",
        "Discuss why AI models can make mistakes, potential risks in real-world applications, and how fairness and reliability should be considered in model deployment.\n"
      ]
    },
    {
      "cell_type": "markdown",
      "source": [
        "# Why AI Models Make Mistakes:\n",
        "AI models, including the ones for image classification, can make mistakes for several reasons. Data quality is paramount; noisy, biased, or insufficient training data can lead to the model learning incorrect patterns or failing to generalize well to unseen data. Model complexity also plays a role; overly simple models may not capture the nuances in the data, while overly complex models can overfit to the training data, performing poorly on new examples. Furthermore, AI models learn from existing data, and their performance is inherently limited by the information present in that data. They don't possess true understanding or common sense, which can lead to errors in unexpected situations or with ambiguous inputs.\n",
        "\n",
        "# Potential Risks in Real-World Applications:\n",
        "Deploying image classification models in real-world applications carries potential risks, especially when misclassifications have significant consequences. For instance, in autonomous vehicles, misclassifying an object (e.g., mistaking a pedestrian for a sign) can lead to accidents. In medical imaging, misidentifying a tumor could result in delayed or incorrect treatment. In security systems, misclassifying an individual could lead to false alarms or, worse, failure to detect a threat. The impact of such errors can range from minor inconveniences to life-threatening situations or significant financial losses.\n",
        "\n",
        "# Importance of Fairness and Reliability in Model Deployment:\n",
        "Fairness and reliability are crucial considerations when deploying AI models. A lack of fairness can lead to biased outcomes, where the model performs differently for different subgroups of people (e.g., based on race, gender, or age), potentially perpetuating societal inequalities. Reliability ensures that the model consistently performs as expected under various conditions and does not produce unpredictable or harmful results. To address these issues, it's essential to use diverse and representative datasets, employ techniques to detect and mitigate bias during training, and rigorously test the model in real-world scenarios before deployment. Ongoing monitoring and evaluation after deployment are also necessary to ensure continued fairness and reliability."
      ],
      "metadata": {
        "id": "aPPUvRzkypdf"
      }
    },
    {
      "cell_type": "markdown",
      "metadata": {
        "id": "f65402b3"
      },
      "source": [
        "## CNN Training History Visualization\n",
        "\n",
        "### Subtask:\n",
        "Plot training vs validation accuracy and loss from the CNN training history."
      ]
    },
    {
      "cell_type": "code",
      "metadata": {
        "colab": {
          "base_uri": "https://localhost:8080/",
          "height": 410
        },
        "id": "9562f4ce",
        "outputId": "4b552a85-4a44-489c-eeb1-0f2353370e6f"
      },
      "source": [
        "import matplotlib.pyplot as plt\n",
        "\n",
        "# Plot training & validation accuracy values\n",
        "plt.figure(figsize=(12, 4))\n",
        "plt.subplot(1, 2, 1)\n",
        "plt.plot(history.history['accuracy'])\n",
        "plt.plot(history.history['val_accuracy'])\n",
        "plt.title('Model Accuracy')\n",
        "plt.ylabel('Accuracy')\n",
        "plt.xlabel('Epoch')\n",
        "plt.legend(['Train', 'Validation'], loc='upper left')\n",
        "\n",
        "# Plot training & validation loss values\n",
        "plt.subplot(1, 2, 2)\n",
        "plt.plot(history.history['loss'])\n",
        "plt.plot(history.history['val_loss'])\n",
        "plt.title('Model Loss')\n",
        "plt.ylabel('Loss')\n",
        "plt.xlabel('Epoch')\n",
        "plt.legend(['Train', 'Validation'], loc='upper left')\n",
        "\n",
        "plt.show()"
      ],
      "execution_count": 14,
      "outputs": [
        {
          "output_type": "display_data",
          "data": {
            "text/plain": [
              "<Figure size 1200x400 with 2 Axes>"
            ],
            "image/png": "[encoded data removed]"
          },
          "metadata": {}
        }
      ]
    },
    {
      "cell_type": "markdown",
      "metadata": {
        "id": "7c06dd5b"
      },
      "source": [
        "## Summary:\n",
        "\n",
        "### Data Analysis Key Findings\n",
        "\n",
        "* The MNIST dataset was successfully loaded, normalized, and split into training and testing sets. The training data has a shape of (60000, 28, 28, 1) and the test data has a shape of (10000, 28, 28, 1).\n",
        "* A Logistic Regression model was trained on the flattened MNIST data. It achieved an accuracy of approximately {{lr_accuracy}} on the test set.\n",
        "* A simple Convolutional Neural Network (CNN) model was built, trained, and evaluated. The CNN model achieved a test accuracy of approximately {{cnn_accuracy}}.\n",
        "* Comparing the two models, the CNN model significantly outperformed the Logistic Regression model, showing a difference in accuracy of approximately {{cnn_accuracy - lr_accuracy}}.\n",
        "* AI models can make mistakes due to factors like data quality, model complexity, and lack of true understanding.\n",
        "* Potential risks of deploying image classification models in real-world applications include misclassifications in critical areas like autonomous vehicles and medical imaging, leading to potentially severe consequences.\n",
        "* Fairness and reliability are crucial for AI model deployment to avoid biased outcomes and ensure consistent performance across different subgroups and conditions.\n",
        "\n"
      ]
    },
    {
      "cell_type": "markdown",
      "source": [
        "# README.md:"
      ],
      "metadata": {
        "id": "waaiDkpg3zY8"
      }
    },
    {
      "cell_type": "markdown",
      "metadata": {
        "id": "c554fb7e"
      },
      "source": [
        "# MNIST Image Classification Pipeline\n",
        "\n",
        "This notebook demonstrates a machine learning pipeline for image classification using the MNIST dataset. It includes data loading and preprocessing, training and evaluation of both a traditional machine learning model (Logistic Regression) and a simple Convolutional Neural Network (CNN), a comparison of their performance, and a reflection on the ethical considerations of using such models.\n",
        "\n",
        "## Dataset\n",
        "\n",
        "The MNIST dataset is a built-in dataset in TensorFlow and other machine learning libraries, consisting of 70,000 grayscale images of handwritten digits (0-9) and their corresponding labels. 60,000 images are used for training and 10,000 for testing.\n",
        "\n",
        "## How to Run the Notebook\n",
        "\n",
        "1. **Open the notebook in Google Colab:** You can upload the `.ipynb` file to Google Colab or open it directly if it's hosted online.\n",
        "2. **Run all cells:** Go to the \"Runtime\" menu and select \"Run all\". This will execute each cell in sequence, performing the data loading, preprocessing, model training, evaluation, comparison, and visualization steps.\n",
        "3. **Examine the outputs:** Review the output of each cell to see the results of the data preprocessing, model training, performance metrics, and visualizations. The final markdown cell provides a summary of the key findings and ethical considerations.\n",
        "\n",
        "## Pipeline Steps\n",
        "\n",
        "The notebook follows these steps:\n",
        "\n",
        "1.  **Load and Preprocess Data**: Loads the MNIST dataset, normalizes pixel values, and splits the data into training and test sets.\n",
        "2.  **Train and Evaluate Baseline Model**: Flattens the images, trains a Logistic Regression model, and evaluates its performance.\n",
        "3.  **Build, Train, and Evaluate Deep Learning Model**: Builds and trains a simple CNN model and evaluates its performance.\n",
        "4.  **Compare Models**: Compares the performance of the Logistic Regression and CNN models.\n",
        "5.  **Address Ethics and Reflection**: Discusses ethical considerations related to AI model mistakes, real-world risks, fairness, and reliability.\n",
        "6.  **CNN Training History Visualization**: Plots the training and validation accuracy and loss of the CNN model."
      ]
    }
  ]
}